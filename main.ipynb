{
 "cells": [
  {
   "cell_type": "code",
   "execution_count": 60,
   "metadata": {
    "collapsed": true
   },
   "outputs": [],
   "source": [
    "import pandas as pd\n",
    "import matplotlib.pyplot as plt\n",
    "import csv\n",
    "import numpy as np"
   ]
  },
  {
   "cell_type": "code",
   "execution_count": 62,
   "metadata": {},
   "outputs": [
    {
     "data": {
      "text/html": [
       "<div>\n",
       "<style>\n",
       "    .dataframe thead tr:only-child th {\n",
       "        text-align: right;\n",
       "    }\n",
       "\n",
       "    .dataframe thead th {\n",
       "        text-align: left;\n",
       "    }\n",
       "\n",
       "    .dataframe tbody tr th {\n",
       "        vertical-align: top;\n",
       "    }\n",
       "</style>\n",
       "<table border=\"1\" class=\"dataframe\">\n",
       "  <thead>\n",
       "    <tr style=\"text-align: right;\">\n",
       "      <th></th>\n",
       "      <th>Mouse ID</th>\n",
       "      <th>Timepoint</th>\n",
       "      <th>Tumor Volume (mm3)</th>\n",
       "      <th>Metastatic Sites</th>\n",
       "      <th>Drug</th>\n",
       "    </tr>\n",
       "  </thead>\n",
       "  <tbody>\n",
       "    <tr>\n",
       "      <th>0</th>\n",
       "      <td>b128</td>\n",
       "      <td>0</td>\n",
       "      <td>45.000000</td>\n",
       "      <td>0</td>\n",
       "      <td>Capomulin</td>\n",
       "    </tr>\n",
       "    <tr>\n",
       "      <th>1</th>\n",
       "      <td>b128</td>\n",
       "      <td>5</td>\n",
       "      <td>45.651331</td>\n",
       "      <td>0</td>\n",
       "      <td>Capomulin</td>\n",
       "    </tr>\n",
       "    <tr>\n",
       "      <th>2</th>\n",
       "      <td>b128</td>\n",
       "      <td>10</td>\n",
       "      <td>43.270852</td>\n",
       "      <td>0</td>\n",
       "      <td>Capomulin</td>\n",
       "    </tr>\n",
       "    <tr>\n",
       "      <th>3</th>\n",
       "      <td>b128</td>\n",
       "      <td>15</td>\n",
       "      <td>43.784893</td>\n",
       "      <td>0</td>\n",
       "      <td>Capomulin</td>\n",
       "    </tr>\n",
       "    <tr>\n",
       "      <th>4</th>\n",
       "      <td>b128</td>\n",
       "      <td>20</td>\n",
       "      <td>42.731552</td>\n",
       "      <td>0</td>\n",
       "      <td>Capomulin</td>\n",
       "    </tr>\n",
       "  </tbody>\n",
       "</table>\n",
       "</div>"
      ],
      "text/plain": [
       "  Mouse ID  Timepoint  Tumor Volume (mm3)  Metastatic Sites       Drug\n",
       "0     b128          0           45.000000                 0  Capomulin\n",
       "1     b128          5           45.651331                 0  Capomulin\n",
       "2     b128         10           43.270852                 0  Capomulin\n",
       "3     b128         15           43.784893                 0  Capomulin\n",
       "4     b128         20           42.731552                 0  Capomulin"
      ]
     },
     "execution_count": 62,
     "metadata": {},
     "output_type": "execute_result"
    }
   ],
   "source": [
    "ct_df = pd.read_csv(\"raw_data/clinicaltrial_data.csv\")\n",
    "md_df = pd.read_csv(\"raw_data/mouse_drug_data.csv\")\n",
    "\n",
    "merged_df = pd.merge(ct_df, md_df, on=\"Mouse ID\")\n",
    "merged_df.head()\n"
   ]
  },
  {
   "cell_type": "code",
   "execution_count": 63,
   "metadata": {},
   "outputs": [],
   "source": [
    "merged_df['Drug'].unique()\n",
    "\n",
    "#group_drug_df.drop(['Ceftamin','Naftisol','Propriva','Ramicane','Stelasyn','Zoniferol'])\n",
    "#keep: Capomulin, Infubinol, Ketapril, and Placebo\n",
    "merged_df.loc[(merged_df['Drug'] != 'Ceftamin') & \\\n",
    "              (merged_df['Drug'] !='Naftisol') & \\\n",
    "              (merged_df['Drug'] !='Naftisol') & \\\n",
    "              (merged_df['Drug'] != 'Propriva') & \\\n",
    "              (merged_df['Drug'] !='Ramicane') & \\\n",
    "              (merged_df['Drug'] !='Stelasyn') & \\\n",
    "              (merged_df['Drug'] !='Zoniferol') ,:]\n",
    "\n",
    "group_drug_df = merged_df.groupby(['Drug','Timepoint'])\n",
    "TumorVolumeMean_df = group_drug_df.mean()['Tumor Volume (mm3)']\n",
    "TumorVolumeMean_df.head()\n",
    "\n",
    "TVM_indexreset_df = TumorVolumeMean_df.reset_index()\n",
    "TVM_indexreset_df.head()\n",
    "\n",
    "CapomulinMeanVolume = TVM_indexreset_df.loc[test['Drug'] == 'Capomulin']\n",
    "InfubinolMeanVolume = TVM_indexreset_df.loc[test['Drug'] == 'Infubinol']\n",
    "KetaprilMeanVolume = TVM_indexreset_df.loc[test['Drug'] == 'Ketapril']\n",
    "PlaceboMeanVolume = TVM_indexreset_df.loc[test['Drug'] == 'Placebo']\n",
    "\n",
    "\n",
    "#group_drug_df.count().head(20)\n"
   ]
  },
  {
   "cell_type": "code",
   "execution_count": 66,
   "metadata": {
    "scrolled": true
   },
   "outputs": [
    {
     "data": {
      "text/plain": [
       "<matplotlib.collections.PathCollection at 0x21fa7bad3c8>"
      ]
     },
     "execution_count": 66,
     "metadata": {},
     "output_type": "execute_result"
    }
   ],
   "source": [
    "plt.scatter(CapomulinMeanVolume['Timepoint'],CapomulinMeanVolume['Tumor Volume (mm3)'], marker=\"o\", facecolors=\"red\", edgecolors=\"black\",alpha=0.75)\n",
    "plt.scatter(InfubinolMeanVolume['Timepoint'],InfubinolMeanVolume['Tumor Volume (mm3)'], marker=\"o\", facecolors=\"blue\", edgecolors=\"black\",alpha=0.75)"
   ]
  },
  {
   "cell_type": "code",
   "execution_count": 67,
   "metadata": {},
   "outputs": [
    {
     "data": {
      "image/png": "[encoded data removed]",
      "text/plain": [
       "<matplotlib.figure.Figure at 0x21fa73ce278>"
      ]
     },
     "metadata": {},
     "output_type": "display_data"
    }
   ],
   "source": [
    "plt.show()"
   ]
  },
  {
   "cell_type": "code",
   "execution_count": null,
   "metadata": {
    "collapsed": true
   },
   "outputs": [],
   "source": []
  },
  {
   "cell_type": "code",
   "execution_count": 56,
   "metadata": {
    "collapsed": true
   },
   "outputs": [],
   "source": [
    "#x_limit = 45\n",
    "# List of values from 0 to 100 each value being 1 greater than the last\n",
    "#x_axis = np.arange(1, x_limit, 1)\n",
    "#plt.scatter(x_axis, group_drug_df['Drug'], marker=\"o\", facecolors=\"red\", edgecolors=\"black\",alpha=0.75)\n",
    "#plt.show()\n"
   ]
  },
  {
   "cell_type": "code",
   "execution_count": null,
   "metadata": {
    "collapsed": true
   },
   "outputs": [],
   "source": []
  },
  {
   "cell_type": "code",
   "execution_count": null,
   "metadata": {
    "collapsed": true
   },
   "outputs": [],
   "source": []
  }
 ],
 "metadata": {
  "kernelspec": {
   "display_name": "Python 3",
   "language": "python",
   "name": "python3"
  },
  "language_info": {
   "codemirror_mode": {
    "name": "ipython",
    "version": 3
   },
   "file_extension": ".py",
   "mimetype": "text/x-python",
   "name": "python",
   "nbconvert_exporter": "python",
   "pygments_lexer": "ipython3",
   "version": "3.6.1"
  }
 },
 "nbformat": 4,
 "nbformat_minor": 2
}
